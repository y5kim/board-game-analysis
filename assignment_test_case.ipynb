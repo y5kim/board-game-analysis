{
 "cells": [
  {
   "cell_type": "markdown",
   "metadata": {
    "id": "ccau42it-6dW"
   },
   "source": [
    "# Q1. Average word length\n",
    "\n",
    "Given the following string\n",
    "\n",
    "\"\"\"Mary had a little lamb\n",
    "its fleece was white as snow\n",
    "and everywhere that Mary went\n",
    "the lamb was sure to go\"\"\"\n",
    "\n",
    "1. Write a `compute_average_word_length` function to compute the average length of the words in this string.\n",
    "2. Supply an option to your function to exclude redundancies in the words, re-compute the average length of the words.\n",
    "For 2 above, you want to remove repeated words. For instance, one,two,three,two after removing the redundancies becomes one,two,three. The words are case-sensitive.\n",
    "\n",
    "Function signature: compute_average_word_length(instring,unique=False)\n",
    "\n",
    "Where instring is the string we'll be computing on. Unique determines whether or not we want to include duplicates. If unique=False we include duplicates, if unique=True then we do not count duplicates."
   ]
  },
  {
   "cell_type": "markdown",
   "metadata": {
    "id": "kpz1KrFl_Au3"
   },
   "source": [
    "**Validation Tests** <br>\n",
    "Check for corner cases and constraints in the inputs enlist all cases used for testing"
   ]
  },
  {
   "cell_type": "code",
   "execution_count": null,
   "metadata": {
    "id": "-Sd9C8bk-dWV"
   },
   "outputs": [],
   "source": [
    "#function signature compute_average_word_length(instring, uniqie = False) \n",
    "assert isinstance(instring, str), \"Input must be a string\"\n",
    "assert isinstance(unique, bool), \"Second argument (unique) must be a bool\""
   ]
  },
  {
   "cell_type": "markdown",
   "metadata": {
    "id": "tA8QPAns_G2p"
   },
   "source": [
    "**Functional Tests** <br>\n",
    "Check function output matches expected result enlist all cases used for testing"
   ]
  },
  {
   "cell_type": "code",
   "execution_count": null,
   "metadata": {
    "id": "Rj-QqTJr_JcF"
   },
   "outputs": [],
   "source": [
    "data1 = \"\"\"Mary had a little lamb. Its fleece was white as snow and everywhere that Mary went the lamb was sure to go\"\"\"\n",
    "assert 3.8181818181818183==compute_average_word_length(data), \"checking for case: unique=False\""
   ]
  },
  {
   "cell_type": "code",
   "execution_count": null,
   "metadata": {
    "id": "NV1xt8Tj_S6V"
   },
   "outputs": [],
   "source": [
    "data2 = \"\"\"Mary had a little lamb. Its fleece was white as snow and everywhere that Mary went the lamb was sure to go\"\"\"\n",
    "assert 3.8421052631578947==compute_average_word_length(data, true), \"checking for case: unique=True\""
   ]
  },
  {
   "cell_type": "code",
   "execution_count": null,
   "metadata": {
    "id": "bqGIBH0S_Yx-"
   },
   "outputs": [],
   "source": [
    "data3 = \"\"\n",
    "assert 0==compute_average_word_length(data), \"checking for empty string\""
   ]
  },
  {
   "cell_type": "code",
   "execution_count": null,
   "metadata": {
    "id": "-pKh0vkd6jZb"
   },
   "outputs": [],
   "source": [
    "data4 = '\"., ;! ?\\''\n",
    "assert 0==compute_average_word_length(data). \"checking for edge case where the string only contains punctuations\""
   ]
  },
  {
   "cell_type": "markdown",
   "metadata": {
    "id": "48HXk61S_Zkq"
   },
   "source": [
    "#Q2. Valid Integer\n",
    "\n",
    "\n",
    "Write a function that takes a single string character (i.e., ‘a’,’b’,’c’) as input and returns True or False if that character represents a valid integer in base 10."
   ]
  },
  {
   "cell_type": "markdown",
   "metadata": {
    "id": "5q-5442m_5FY"
   },
   "source": [
    "**Validation Tests** <br>\n",
    "Check for corner cases and constraints in the inputs enlist all cases used for testing"
   ]
  },
  {
   "cell_type": "code",
   "execution_count": null,
   "metadata": {
    "id": "nkO8bw0E_1q5"
   },
   "outputs": [],
   "source": [
    "#function signature is_string_integer(single_str)\n",
    "\n",
    "assert isinstance(single_str, str), 'The input must be a string'\n",
    "assert len(single_str) == 1, 'The length of the string must be 1'"
   ]
  },
  {
   "cell_type": "markdown",
   "metadata": {
    "id": "T1HbdyRC_7oP"
   },
   "source": [
    "**Functional Tests** <br>\n",
    "Check function output matches expected result enlist all cases used for testing"
   ]
  },
  {
   "cell_type": "code",
   "execution_count": null,
   "metadata": {
    "id": "UIGM6Ye4_9Nt"
   },
   "outputs": [],
   "source": [
    "assert is_string_integer(\"1\") == True, \"test for a valid integer\""
   ]
  },
  {
   "cell_type": "code",
   "execution_count": null,
   "metadata": {
    "id": "TQi6Q4KU_-cU"
   },
   "outputs": [],
   "source": [
    "assert is_string_integer(\"a\") == False, \"test for a non-integer character\""
   ]
  },
  {
   "cell_type": "markdown",
   "metadata": {
    "id": "WleUwF2QAAFs"
   },
   "source": [
    "#Q3. Sum Non-negative\n",
    "\n",
    "Write a function that computes the sum of all non-negative integers (i.e. >=0) up to and including a specified value, n."
   ]
  },
  {
   "cell_type": "markdown",
   "metadata": {
    "id": "HvdWzEniAPka"
   },
   "source": [
    "**Validation Tests** <br>\n",
    "Check for corner cases and constraints in the inputs enlist all cases used for testing"
   ]
  },
  {
   "cell_type": "code",
   "execution_count": null,
   "metadata": {
    "id": "9NOX7LenAJ-5"
   },
   "outputs": [],
   "source": [
    "#Function signature: compute_sum_to_n(n)\n",
    "assert isinstance(n, int), \"input must be integer\"\n",
    "assert n>=0, \"input must be nonnegative\""
   ]
  },
  {
   "cell_type": "markdown",
   "metadata": {
    "id": "mScX-nUjAXRQ"
   },
   "source": [
    "**Functional Tests** <br>\n",
    "Check function output matches expected result enlist all cases used for testing"
   ]
  },
  {
   "cell_type": "code",
   "execution_count": null,
   "metadata": {
    "id": "oatdwpExAY8x"
   },
   "outputs": [],
   "source": [
    "assert 55==compute_sum_to_n(10), \"test for regular input\""
   ]
  },
  {
   "cell_type": "code",
   "execution_count": null,
   "metadata": {
    "id": "gJLLtsCfAaV2"
   },
   "outputs": [],
   "source": [
    "assert 0==compute_sum_to_n(0), \"test for zero input\""
   ]
  }
 ],
 "metadata": {
  "colab": {
   "collapsed_sections": [],
   "name": "ECE 143  Group1_Assignment1",
   "provenance": []
  },
  "kernelspec": {
   "display_name": "Python 3",
   "language": "python",
   "name": "python3"
  },
  "language_info": {
   "codemirror_mode": {
    "name": "ipython",
    "version": 3
   },
   "file_extension": ".py",
   "mimetype": "text/x-python",
   "name": "python",
   "nbconvert_exporter": "python",
   "pygments_lexer": "ipython3",
   "version": "3.7.6"
  }
 },
 "nbformat": 4,
 "nbformat_minor": 1
}
